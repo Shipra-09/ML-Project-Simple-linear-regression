{
 "cells": [
  {
   "cell_type": "markdown",
   "id": "8468cc1a",
   "metadata": {},
   "source": [
    "## Delivery time"
   ]
  },
  {
   "cell_type": "markdown",
   "id": "67879438",
   "metadata": {},
   "source": [
    "Objective  - Is to predict the Delivery time using Sorting time"
   ]
  },
  {
   "cell_type": "code",
   "execution_count": 72,
   "id": "6428f7f1",
   "metadata": {},
   "outputs": [],
   "source": [
    "## Delivery_time \n",
    "import pandas as pd\n",
    "import numpy as np\n",
    "import matplotlib.pyplot as plt\n",
    "import seaborn as sns  "
   ]
  },
  {
   "cell_type": "code",
   "execution_count": 4,
   "id": "f5cca84a",
   "metadata": {},
   "outputs": [
    {
     "data": {
      "text/html": [
       "<div>\n",
       "<style scoped>\n",
       "    .dataframe tbody tr th:only-of-type {\n",
       "        vertical-align: middle;\n",
       "    }\n",
       "\n",
       "    .dataframe tbody tr th {\n",
       "        vertical-align: top;\n",
       "    }\n",
       "\n",
       "    .dataframe thead th {\n",
       "        text-align: right;\n",
       "    }\n",
       "</style>\n",
       "<table border=\"1\" class=\"dataframe\">\n",
       "  <thead>\n",
       "    <tr style=\"text-align: right;\">\n",
       "      <th></th>\n",
       "      <th>Delivery Time</th>\n",
       "      <th>Sorting Time</th>\n",
       "    </tr>\n",
       "  </thead>\n",
       "  <tbody>\n",
       "    <tr>\n",
       "      <th>0</th>\n",
       "      <td>21.00</td>\n",
       "      <td>10</td>\n",
       "    </tr>\n",
       "    <tr>\n",
       "      <th>1</th>\n",
       "      <td>13.50</td>\n",
       "      <td>4</td>\n",
       "    </tr>\n",
       "    <tr>\n",
       "      <th>2</th>\n",
       "      <td>19.75</td>\n",
       "      <td>6</td>\n",
       "    </tr>\n",
       "    <tr>\n",
       "      <th>3</th>\n",
       "      <td>24.00</td>\n",
       "      <td>9</td>\n",
       "    </tr>\n",
       "    <tr>\n",
       "      <th>4</th>\n",
       "      <td>29.00</td>\n",
       "      <td>10</td>\n",
       "    </tr>\n",
       "  </tbody>\n",
       "</table>\n",
       "</div>"
      ],
      "text/plain": [
       "   Delivery Time  Sorting Time\n",
       "0          21.00            10\n",
       "1          13.50             4\n",
       "2          19.75             6\n",
       "3          24.00             9\n",
       "4          29.00            10"
      ]
     },
     "execution_count": 4,
     "metadata": {},
     "output_type": "execute_result"
    }
   ],
   "source": [
    "data=pd.read_csv('D:/TOPMENTOR-DS/Lectures/Class 20-29th-Oct/b88assignments/Project - 1&2_ Simple_Reg/delivery_time.csv')\n",
    "data.head()"
   ]
  },
  {
   "cell_type": "code",
   "execution_count": 6,
   "id": "eb203a07",
   "metadata": {},
   "outputs": [
    {
     "data": {
      "text/html": [
       "<div>\n",
       "<style scoped>\n",
       "    .dataframe tbody tr th:only-of-type {\n",
       "        vertical-align: middle;\n",
       "    }\n",
       "\n",
       "    .dataframe tbody tr th {\n",
       "        vertical-align: top;\n",
       "    }\n",
       "\n",
       "    .dataframe thead th {\n",
       "        text-align: right;\n",
       "    }\n",
       "</style>\n",
       "<table border=\"1\" class=\"dataframe\">\n",
       "  <thead>\n",
       "    <tr style=\"text-align: right;\">\n",
       "      <th></th>\n",
       "      <th>Delivery Time</th>\n",
       "      <th>Sorting Time</th>\n",
       "    </tr>\n",
       "  </thead>\n",
       "  <tbody>\n",
       "    <tr>\n",
       "      <th>0</th>\n",
       "      <td>21.00</td>\n",
       "      <td>10</td>\n",
       "    </tr>\n",
       "    <tr>\n",
       "      <th>1</th>\n",
       "      <td>13.50</td>\n",
       "      <td>4</td>\n",
       "    </tr>\n",
       "    <tr>\n",
       "      <th>2</th>\n",
       "      <td>19.75</td>\n",
       "      <td>6</td>\n",
       "    </tr>\n",
       "    <tr>\n",
       "      <th>3</th>\n",
       "      <td>24.00</td>\n",
       "      <td>9</td>\n",
       "    </tr>\n",
       "    <tr>\n",
       "      <th>4</th>\n",
       "      <td>29.00</td>\n",
       "      <td>10</td>\n",
       "    </tr>\n",
       "    <tr>\n",
       "      <th>5</th>\n",
       "      <td>15.35</td>\n",
       "      <td>6</td>\n",
       "    </tr>\n",
       "    <tr>\n",
       "      <th>6</th>\n",
       "      <td>19.00</td>\n",
       "      <td>7</td>\n",
       "    </tr>\n",
       "    <tr>\n",
       "      <th>7</th>\n",
       "      <td>9.50</td>\n",
       "      <td>3</td>\n",
       "    </tr>\n",
       "    <tr>\n",
       "      <th>8</th>\n",
       "      <td>17.90</td>\n",
       "      <td>10</td>\n",
       "    </tr>\n",
       "    <tr>\n",
       "      <th>9</th>\n",
       "      <td>18.75</td>\n",
       "      <td>9</td>\n",
       "    </tr>\n",
       "    <tr>\n",
       "      <th>10</th>\n",
       "      <td>19.83</td>\n",
       "      <td>8</td>\n",
       "    </tr>\n",
       "    <tr>\n",
       "      <th>11</th>\n",
       "      <td>10.75</td>\n",
       "      <td>4</td>\n",
       "    </tr>\n",
       "    <tr>\n",
       "      <th>12</th>\n",
       "      <td>16.68</td>\n",
       "      <td>7</td>\n",
       "    </tr>\n",
       "    <tr>\n",
       "      <th>13</th>\n",
       "      <td>11.50</td>\n",
       "      <td>3</td>\n",
       "    </tr>\n",
       "    <tr>\n",
       "      <th>14</th>\n",
       "      <td>12.03</td>\n",
       "      <td>3</td>\n",
       "    </tr>\n",
       "    <tr>\n",
       "      <th>15</th>\n",
       "      <td>14.88</td>\n",
       "      <td>4</td>\n",
       "    </tr>\n",
       "    <tr>\n",
       "      <th>16</th>\n",
       "      <td>13.75</td>\n",
       "      <td>6</td>\n",
       "    </tr>\n",
       "    <tr>\n",
       "      <th>17</th>\n",
       "      <td>18.11</td>\n",
       "      <td>7</td>\n",
       "    </tr>\n",
       "    <tr>\n",
       "      <th>18</th>\n",
       "      <td>8.00</td>\n",
       "      <td>2</td>\n",
       "    </tr>\n",
       "    <tr>\n",
       "      <th>19</th>\n",
       "      <td>17.83</td>\n",
       "      <td>7</td>\n",
       "    </tr>\n",
       "    <tr>\n",
       "      <th>20</th>\n",
       "      <td>21.50</td>\n",
       "      <td>5</td>\n",
       "    </tr>\n",
       "  </tbody>\n",
       "</table>\n",
       "</div>"
      ],
      "text/plain": [
       "    Delivery Time  Sorting Time\n",
       "0           21.00            10\n",
       "1           13.50             4\n",
       "2           19.75             6\n",
       "3           24.00             9\n",
       "4           29.00            10\n",
       "5           15.35             6\n",
       "6           19.00             7\n",
       "7            9.50             3\n",
       "8           17.90            10\n",
       "9           18.75             9\n",
       "10          19.83             8\n",
       "11          10.75             4\n",
       "12          16.68             7\n",
       "13          11.50             3\n",
       "14          12.03             3\n",
       "15          14.88             4\n",
       "16          13.75             6\n",
       "17          18.11             7\n",
       "18           8.00             2\n",
       "19          17.83             7\n",
       "20          21.50             5"
      ]
     },
     "execution_count": 6,
     "metadata": {},
     "output_type": "execute_result"
    }
   ],
   "source": [
    "df=data.copy()\n",
    "df"
   ]
  },
  {
   "cell_type": "markdown",
   "id": "bb417027",
   "metadata": {},
   "source": [
    "## Exploratory Data Analysis------  "
   ]
  },
  {
   "cell_type": "code",
   "execution_count": 91,
   "id": "2af49e1a",
   "metadata": {},
   "outputs": [
    {
     "data": {
      "image/png": "[encoded data removed]",
      "text/plain": [
       "<Figure size 800x300 with 1 Axes>"
      ]
     },
     "metadata": {},
     "output_type": "display_data"
    }
   ],
   "source": [
    "## Variation of Delivery time with the sorting time\n",
    "plt.figure(figsize=(8,3))\n",
    "sns.lineplot(x='Sorting Time',y='Delivery Time',data=df)\n",
    "plt.savefig('Delivery time versus Soting time.jpg')"
   ]
  },
  {
   "cell_type": "markdown",
   "id": "b393277e",
   "metadata": {},
   "source": [
    "Increase in the sorting time causes an increase in the delivery time, both are directly proportional"
   ]
  },
  {
   "cell_type": "code",
   "execution_count": 96,
   "id": "2112b2d3",
   "metadata": {},
   "outputs": [
    {
     "name": "stdout",
     "output_type": "stream",
     "text": [
      "The skewness is : 0.35\n",
      "count    21.000000\n",
      "mean     16.790952\n",
      "std       5.074901\n",
      "min       8.000000\n",
      "25%      13.500000\n",
      "50%      17.830000\n",
      "75%      19.750000\n",
      "max      29.000000\n",
      "Name: Delivery Time, dtype: float64\n"
     ]
    },
    {
     "data": {
      "image/png": "[encoded data removed]",
      "text/plain": [
       "<Figure size 500x500 with 1 Axes>"
      ]
     },
     "metadata": {},
     "output_type": "display_data"
    }
   ],
   "source": [
    "# Distribution of Delivery Time data\n",
    "sns.displot(df['Delivery Time'])\n",
    "print('The skewness is :', round(df['Delivery Time'].skew(),2))\n",
    "print(df['Delivery Time'].describe())\n",
    "plt.savefig('Distribution of Delivery time.jpg')"
   ]
  },
  {
   "cell_type": "markdown",
   "id": "787c9442",
   "metadata": {},
   "source": [
    "The distribution of Delievery time is normally distributed"
   ]
  },
  {
   "cell_type": "code",
   "execution_count": 98,
   "id": "3a4787d6",
   "metadata": {},
   "outputs": [
    {
     "name": "stdout",
     "output_type": "stream",
     "text": [
      "The skewness is : 0.05\n",
      "count    21.000000\n",
      "mean      6.190476\n",
      "std       2.542028\n",
      "min       2.000000\n",
      "25%       4.000000\n",
      "50%       6.000000\n",
      "75%       8.000000\n",
      "max      10.000000\n",
      "Name: Sorting Time, dtype: float64\n"
     ]
    },
    {
     "data": {
      "image/png": "[encoded data removed]",
      "text/plain": [
       "<Figure size 500x500 with 1 Axes>"
      ]
     },
     "metadata": {},
     "output_type": "display_data"
    }
   ],
   "source": [
    "# Distribution of Sorting Time data\n",
    "sns.displot(df['Sorting Time'])\n",
    "print('The skewness is :', round(df['Sorting Time'].skew(),2))\n",
    "print(df['Sorting Time'].describe())\n",
    "plt.savefig('Distribution of Sorting time.jpg')"
   ]
  },
  {
   "cell_type": "markdown",
   "id": "82b02a0e",
   "metadata": {},
   "source": [
    "The distribution of Sorting time is normally distributed"
   ]
  },
  {
   "cell_type": "code",
   "execution_count": 94,
   "id": "37f2272a",
   "metadata": {},
   "outputs": [
    {
     "data": {
      "image/png": "[encoded data removed]",
      "text/plain": [
       "<Figure size 640x480 with 1 Axes>"
      ]
     },
     "metadata": {},
     "output_type": "display_data"
    }
   ],
   "source": [
    "## Box plot of Delivery time data to check the presence of outliers\n",
    "sns.boxplot(x=df['Delivery Time'])\n",
    "plt.savefig('Box plot Delievery time.jpg')"
   ]
  },
  {
   "cell_type": "markdown",
   "id": "4e31161e",
   "metadata": {},
   "source": [
    "this means, there are no outliers in the delivery time data"
   ]
  },
  {
   "cell_type": "code",
   "execution_count": 95,
   "id": "16fe13e1",
   "metadata": {},
   "outputs": [
    {
     "data": {
      "image/png": "[encoded data removed]",
      "text/plain": [
       "<Figure size 640x480 with 1 Axes>"
      ]
     },
     "metadata": {},
     "output_type": "display_data"
    }
   ],
   "source": [
    "sns.scatterplot(x='Sorting Time',y='Delivery Time',data=df)\n",
    "plt.savefig('Scattering plot of Sorting time.jpg')"
   ]
  },
  {
   "cell_type": "markdown",
   "id": "36ba55df",
   "metadata": {},
   "source": [
    "1. From the scatter plot it can be concluded that Delivery time does depend on sorting time but only to certain extent.\n",
    "2. For the same sorting time there are different delivery time that means it also depend on other parameters.\n"
   ]
  },
  {
   "cell_type": "code",
   "execution_count": 78,
   "id": "0c513a8c",
   "metadata": {},
   "outputs": [
    {
     "name": "stdout",
     "output_type": "stream",
     "text": [
      "The variance in the Delievery time and Sorting time is:\n",
      " Sorting Time      6.46\n",
      "Delivery Time    25.75\n",
      "dtype: float64\n"
     ]
    }
   ],
   "source": [
    "## the variance of data\n",
    "v=df[['Sorting Time','Delivery Time']].var()\n",
    "print('The variance in the Delievery time and Sorting time is:\\n',round(v,2))"
   ]
  },
  {
   "cell_type": "markdown",
   "id": "c62efba4",
   "metadata": {},
   "source": [
    "data is slightly variated  "
   ]
  },
  {
   "cell_type": "code",
   "execution_count": 38,
   "id": "a7d11efc",
   "metadata": {},
   "outputs": [
    {
     "name": "stdout",
     "output_type": "stream",
     "text": [
      "The model data is given as:\n",
      "     Sorting Time  Delivery Time\n",
      "0             10          21.00\n",
      "1              4          13.50\n",
      "2              6          19.75\n",
      "3              9          24.00\n",
      "4             10          29.00\n",
      "5              6          15.35\n",
      "6              7          19.00\n",
      "7              3           9.50\n",
      "8             10          17.90\n",
      "9              9          18.75\n",
      "10             8          19.83\n",
      "11             4          10.75\n",
      "12             7          16.68\n",
      "13             3          11.50\n",
      "14             3          12.03\n",
      "15             4          14.88\n",
      "16             6          13.75\n",
      "17             7          18.11\n",
      "18             2           8.00\n",
      "19             7          17.83\n",
      "20             5          21.50\n"
     ]
    }
   ],
   "source": [
    "model_data=df[['Sorting Time','Delivery Time']]\n",
    "print('The model data is given as:\\n', model_data)"
   ]
  },
  {
   "cell_type": "code",
   "execution_count": 99,
   "id": "363cdc12",
   "metadata": {},
   "outputs": [
    {
     "name": "stdout",
     "output_type": "stream",
     "text": [
      "The correlation between Delivery time and sorting time is :\n",
      "                Sorting Time  Delivery Time\n",
      "Sorting Time           1.00           0.83\n",
      "Delivery Time          0.83           1.00\n"
     ]
    }
   ],
   "source": [
    "## Correlation between Delivery time and sorting time\n",
    "c=round(model_data.corr(),2)\n",
    "print('The correlation between Delivery time and sorting time is :\\n',c)"
   ]
  },
  {
   "cell_type": "markdown",
   "id": "60c927c3",
   "metadata": {},
   "source": [
    "1. Both are approximately 83% correlated, which means it is a moderate correlation.\n",
    "2. If correlated value is greater than 85% then it is a strong correlation "
   ]
  },
  {
   "cell_type": "markdown",
   "id": "2c7489e5",
   "metadata": {},
   "source": [
    "## Sampling the data-----"
   ]
  },
  {
   "cell_type": "code",
   "execution_count": 43,
   "id": "aac0d4ef",
   "metadata": {},
   "outputs": [
    {
     "name": "stdout",
     "output_type": "stream",
     "text": [
      "The number of rows and columns in the given data are:\n"
     ]
    },
    {
     "data": {
      "text/plain": [
       "(21, 2)"
      ]
     },
     "execution_count": 43,
     "metadata": {},
     "output_type": "execute_result"
    }
   ],
   "source": [
    "# the number of rows and columns in the given data\n",
    "print('The number of rows and columns in the given data are:')\n",
    "model_data.shape"
   ]
  },
  {
   "cell_type": "code",
   "execution_count": 46,
   "id": "425c4ca0",
   "metadata": {},
   "outputs": [],
   "source": [
    "from sklearn.model_selection import train_test_split"
   ]
  },
  {
   "cell_type": "code",
   "execution_count": 47,
   "id": "f1ab24a9",
   "metadata": {},
   "outputs": [],
   "source": [
    "x=model_data['Sorting Time']\n",
    "y=model_data['Delivery Time']"
   ]
  },
  {
   "cell_type": "code",
   "execution_count": 48,
   "id": "ee33c468",
   "metadata": {},
   "outputs": [],
   "source": [
    "x_train,x_test,y_train,y_test=train_test_split(x,y,train_size=0.8)"
   ]
  },
  {
   "cell_type": "code",
   "execution_count": 49,
   "id": "60d2c106",
   "metadata": {},
   "outputs": [
    {
     "data": {
      "text/plain": [
       "((16,), (16,))"
      ]
     },
     "execution_count": 49,
     "metadata": {},
     "output_type": "execute_result"
    }
   ],
   "source": [
    "## The shape of data after distributing it into train and test category\n",
    "x_train.shape,y_train.shape"
   ]
  },
  {
   "cell_type": "code",
   "execution_count": 50,
   "id": "63d3d6e5",
   "metadata": {},
   "outputs": [
    {
     "data": {
      "text/plain": [
       "((5,), (5,))"
      ]
     },
     "execution_count": 50,
     "metadata": {},
     "output_type": "execute_result"
    }
   ],
   "source": [
    "x_test.shape,y_test.shape"
   ]
  },
  {
   "cell_type": "code",
   "execution_count": 54,
   "id": "cb7a2406",
   "metadata": {},
   "outputs": [],
   "source": [
    "# Reshaping of the data as it is a simple Linear Regression\n",
    "x_train=x_train.values.reshape(-1,1)\n",
    "y_train=y_train.values.reshape(-1,1)"
   ]
  },
  {
   "cell_type": "markdown",
   "id": "4a6f8ff8",
   "metadata": {},
   "source": [
    "## Model building-------"
   ]
  },
  {
   "cell_type": "code",
   "execution_count": 55,
   "id": "2bf5f185",
   "metadata": {},
   "outputs": [],
   "source": [
    "from sklearn.linear_model import LinearRegression"
   ]
  },
  {
   "cell_type": "code",
   "execution_count": 56,
   "id": "30ecf6ba",
   "metadata": {},
   "outputs": [
    {
     "name": "stdout",
     "output_type": "stream",
     "text": [
      "LinearRegression()\n"
     ]
    }
   ],
   "source": [
    "model=LinearRegression()\n",
    "print(model)"
   ]
  },
  {
   "cell_type": "code",
   "execution_count": 57,
   "id": "fe835ac8",
   "metadata": {},
   "outputs": [],
   "source": [
    "model_fit=model.fit(x_train,y_train)"
   ]
  },
  {
   "cell_type": "code",
   "execution_count": 82,
   "id": "2726d05c",
   "metadata": {},
   "outputs": [
    {
     "name": "stdout",
     "output_type": "stream",
     "text": [
      "The coefficient of the fitted data is:  [[1.67076494]]\n"
     ]
    }
   ],
   "source": [
    "# Coefficient \n",
    "print('The coefficient of the fitted data is: ', model_fit.coef_)"
   ]
  },
  {
   "cell_type": "code",
   "execution_count": 59,
   "id": "ac2c3b21",
   "metadata": {},
   "outputs": [
    {
     "name": "stdout",
     "output_type": "stream",
     "text": [
      "The Intercept of the fitted data is:  [6.25570073]\n"
     ]
    }
   ],
   "source": [
    "# Intercept of the fitting\n",
    "print('The Intercept of the fitted data is: ',model_fit.intercept_)"
   ]
  },
  {
   "cell_type": "markdown",
   "id": "4bb3d728",
   "metadata": {},
   "source": [
    "## Model Prediction"
   ]
  },
  {
   "cell_type": "code",
   "execution_count": 60,
   "id": "39db01ce",
   "metadata": {},
   "outputs": [],
   "source": [
    "x_test=x_test.values.reshape(-1,1)"
   ]
  },
  {
   "cell_type": "code",
   "execution_count": 61,
   "id": "d6d61bc2",
   "metadata": {},
   "outputs": [
    {
     "data": {
      "text/plain": [
       "array([[11.26799553],\n",
       "       [16.28029034],\n",
       "       [17.95105528],\n",
       "       [12.93876047],\n",
       "       [17.95105528]])"
      ]
     },
     "execution_count": 61,
     "metadata": {},
     "output_type": "execute_result"
    }
   ],
   "source": [
    "pred=model_fit.predict(x_test)\n",
    "pred"
   ]
  },
  {
   "cell_type": "code",
   "execution_count": 63,
   "id": "5e8fd520",
   "metadata": {},
   "outputs": [
    {
     "data": {
      "text/html": [
       "<div>\n",
       "<style scoped>\n",
       "    .dataframe tbody tr th:only-of-type {\n",
       "        vertical-align: middle;\n",
       "    }\n",
       "\n",
       "    .dataframe tbody tr th {\n",
       "        vertical-align: top;\n",
       "    }\n",
       "\n",
       "    .dataframe thead th {\n",
       "        text-align: right;\n",
       "    }\n",
       "</style>\n",
       "<table border=\"1\" class=\"dataframe\">\n",
       "  <thead>\n",
       "    <tr style=\"text-align: right;\">\n",
       "      <th></th>\n",
       "      <th>pred</th>\n",
       "    </tr>\n",
       "  </thead>\n",
       "  <tbody>\n",
       "    <tr>\n",
       "      <th>0</th>\n",
       "      <td>11.267996</td>\n",
       "    </tr>\n",
       "    <tr>\n",
       "      <th>1</th>\n",
       "      <td>16.280290</td>\n",
       "    </tr>\n",
       "    <tr>\n",
       "      <th>2</th>\n",
       "      <td>17.951055</td>\n",
       "    </tr>\n",
       "    <tr>\n",
       "      <th>3</th>\n",
       "      <td>12.938760</td>\n",
       "    </tr>\n",
       "    <tr>\n",
       "      <th>4</th>\n",
       "      <td>17.951055</td>\n",
       "    </tr>\n",
       "  </tbody>\n",
       "</table>\n",
       "</div>"
      ],
      "text/plain": [
       "        pred\n",
       "0  11.267996\n",
       "1  16.280290\n",
       "2  17.951055\n",
       "3  12.938760\n",
       "4  17.951055"
      ]
     },
     "execution_count": 63,
     "metadata": {},
     "output_type": "execute_result"
    }
   ],
   "source": [
    "df_pred=pd.DataFrame(pred,columns=['pred'])\n",
    "df_pred"
   ]
  },
  {
   "cell_type": "code",
   "execution_count": 65,
   "id": "4828a645",
   "metadata": {},
   "outputs": [
    {
     "data": {
      "text/html": [
       "<div>\n",
       "<style scoped>\n",
       "    .dataframe tbody tr th:only-of-type {\n",
       "        vertical-align: middle;\n",
       "    }\n",
       "\n",
       "    .dataframe tbody tr th {\n",
       "        vertical-align: top;\n",
       "    }\n",
       "\n",
       "    .dataframe thead th {\n",
       "        text-align: right;\n",
       "    }\n",
       "</style>\n",
       "<table border=\"1\" class=\"dataframe\">\n",
       "  <thead>\n",
       "    <tr style=\"text-align: right;\">\n",
       "      <th></th>\n",
       "      <th>pred</th>\n",
       "      <th>Actual</th>\n",
       "    </tr>\n",
       "  </thead>\n",
       "  <tbody>\n",
       "    <tr>\n",
       "      <th>0</th>\n",
       "      <td>11.267996</td>\n",
       "      <td>11.50</td>\n",
       "    </tr>\n",
       "    <tr>\n",
       "      <th>1</th>\n",
       "      <td>16.280290</td>\n",
       "      <td>19.75</td>\n",
       "    </tr>\n",
       "    <tr>\n",
       "      <th>2</th>\n",
       "      <td>17.951055</td>\n",
       "      <td>19.00</td>\n",
       "    </tr>\n",
       "    <tr>\n",
       "      <th>3</th>\n",
       "      <td>12.938760</td>\n",
       "      <td>13.50</td>\n",
       "    </tr>\n",
       "    <tr>\n",
       "      <th>4</th>\n",
       "      <td>17.951055</td>\n",
       "      <td>16.68</td>\n",
       "    </tr>\n",
       "  </tbody>\n",
       "</table>\n",
       "</div>"
      ],
      "text/plain": [
       "        pred  Actual\n",
       "0  11.267996   11.50\n",
       "1  16.280290   19.75\n",
       "2  17.951055   19.00\n",
       "3  12.938760   13.50\n",
       "4  17.951055   16.68"
      ]
     },
     "execution_count": 65,
     "metadata": {},
     "output_type": "execute_result"
    }
   ],
   "source": [
    "df_pred['Actual']=y_test.values\n",
    "df_pred"
   ]
  },
  {
   "cell_type": "markdown",
   "id": "038cde4e",
   "metadata": {},
   "source": [
    "## Error Calculation"
   ]
  },
  {
   "cell_type": "code",
   "execution_count": 66,
   "id": "1d96b12a",
   "metadata": {},
   "outputs": [],
   "source": [
    "from sklearn.metrics import r2_score,mean_absolute_error,mean_squared_error\n",
    "from math import sqrt"
   ]
  },
  {
   "cell_type": "code",
   "execution_count": 89,
   "id": "8648e51e",
   "metadata": {},
   "outputs": [
    {
     "name": "stdout",
     "output_type": "stream",
     "text": [
      "The strength of the model is : 0.697\n"
     ]
    }
   ],
   "source": [
    "# R square value \n",
    "st=r2_score(df_pred['Actual'],df_pred['pred'])\n",
    "print('The strength of the model is :',round(st,3))"
   ]
  },
  {
   "cell_type": "markdown",
   "id": "5f164283",
   "metadata": {},
   "source": [
    "1. The strength of the model is strong since r square value lies between 0 and 1.\n",
    "2. strongest when approaches 1 and weakest when approaches 0\n",
    "So, the fitted model is fine."
   ]
  },
  {
   "cell_type": "code",
   "execution_count": 90,
   "id": "d042408c",
   "metadata": {},
   "outputs": [
    {
     "name": "stdout",
     "output_type": "stream",
     "text": [
      "The root mean square value of the model is : 1.739\n"
     ]
    }
   ],
   "source": [
    "# RMSE\n",
    "RMSE= sqrt(mean_squared_error(df_pred['Actual'],df_pred['pred']))\n",
    "print('The root mean square value of the model is :',round(RMSE,3))"
   ]
  },
  {
   "cell_type": "markdown",
   "id": "5166f267",
   "metadata": {},
   "source": [
    "## Saving the model"
   ]
  },
  {
   "cell_type": "code",
   "execution_count": 84,
   "id": "780a74d3",
   "metadata": {},
   "outputs": [],
   "source": [
    "import joblib"
   ]
  },
  {
   "cell_type": "code",
   "execution_count": 85,
   "id": "41604d35",
   "metadata": {},
   "outputs": [],
   "source": [
    "file_name='Delivery_Prj1.sav'"
   ]
  },
  {
   "cell_type": "code",
   "execution_count": 86,
   "id": "39d8d849",
   "metadata": {},
   "outputs": [
    {
     "data": {
      "text/plain": [
       "['Delivery_Prj1.sav']"
      ]
     },
     "execution_count": 86,
     "metadata": {},
     "output_type": "execute_result"
    }
   ],
   "source": [
    "joblib.dump(model_fit,file_name)"
   ]
  },
  {
   "cell_type": "code",
   "execution_count": null,
   "id": "8e22f264",
   "metadata": {},
   "outputs": [],
   "source": []
  }
 ],
 "metadata": {
  "kernelspec": {
   "display_name": "Python 3 (ipykernel)",
   "language": "python",
   "name": "python3"
  },
  "language_info": {
   "codemirror_mode": {
    "name": "ipython",
    "version": 3
   },
   "file_extension": ".py",
   "mimetype": "text/x-python",
   "name": "python",
   "nbconvert_exporter": "python",
   "pygments_lexer": "ipython3",
   "version": "3.10.9"
  }
 },
 "nbformat": 4,
 "nbformat_minor": 5
}
